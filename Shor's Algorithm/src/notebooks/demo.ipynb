{
 "cells": [
  {
   "cell_type": "code",
   "execution_count": null,
   "metadata": {},
   "outputs": [],
   "source": [
    "#RUN THIS BEFORE USING THE NOTEBOOK!\n",
    "\n",
    "#For import purposes\n",
    "import sys\n",
    "import os\n",
    "sys.path.append(os.path.abspath(os.path.join(os.getcwd(), '..')))\n",
    "\n",
    "import time\n",
    "\n",
    "from sympy import primefactors\n",
    "from shors_algorithm.shor import classical_shor\n",
    "from shors_algorithm.shor import shors_algorithm\n",
    "from shors_algorithm.order_finding import order_finding_circuit_beauregard"
   ]
  },
  {
   "cell_type": "markdown",
   "metadata": {},
   "source": [
    "# Demo - Shor's algorithm and its derivations"
   ]
  },
  {
   "cell_type": "markdown",
   "metadata": {},
   "source": [
    "By : Mathis Beaudoin (Summer 2024)\n",
    "\n",
    "In this notebook, we show different versions of Shor's algorithm and how to use the functions that factorize numbers. We define under this block two semiprimes numbers that will be used throughout the notebook. "
   ]
  },
  {
   "cell_type": "code",
   "execution_count": null,
   "metadata": {},
   "outputs": [],
   "source": [
    "#Assign your own numbers too!\n",
    "\n",
    "small_semiprime = 7*5\n",
    "\n",
    "p = 1111111111006001111111111 #25 digits\n",
    "q = 999999999999999543767 #21 digits\n",
    "big_semiprime = p*q"
   ]
  },
  {
   "cell_type": "markdown",
   "metadata": {},
   "source": [
    "## 1 - Classical Method (Sympy)"
   ]
  },
  {
   "cell_type": "markdown",
   "metadata": {},
   "source": [
    "To factor a number classically, we can use a method from Sympy. More effective methods like the quadratic sieve algorithm can be used but have their limit like any classical algorithm to factor huge numbers."
   ]
  },
  {
   "cell_type": "code",
   "execution_count": null,
   "metadata": {},
   "outputs": [],
   "source": [
    "#Small semiprime\n",
    "sympy_small_semiprime = {\"N\" : small_semiprime, \"factors\" : [], \"total_time\" : 0.0}\n",
    "\n",
    "start = time.time()\n",
    "sympy_small_semiprime[\"factors\"] = primefactors(small_semiprime)\n",
    "sympy_small_semiprime[\"total_time\"] = time.time() - start\n",
    "\n",
    "print(\"Small semiprime (Sympy) : \", sympy_small_semiprime)"
   ]
  },
  {
   "cell_type": "code",
   "execution_count": null,
   "metadata": {},
   "outputs": [],
   "source": [
    "#Big semiprime\n",
    "sympy_big_semiprime = {\"N\" : big_semiprime, \"factors\" : [], \"total_time\" : 0.0}\n",
    "\n",
    "start = time.time()\n",
    "sympy_big_semiprime[\"factors\"] = primefactors(big_semiprime)\n",
    "sympy_big_semiprime[\"total_time\"] = time.time() - start\n",
    "\n",
    "print(\"Big semiprime (Sympy) : \", sympy_big_semiprime)"
   ]
  },
  {
   "cell_type": "markdown",
   "metadata": {},
   "source": [
    "## 2 - Purely classical version of Shor's algorithm"
   ]
  },
  {
   "cell_type": "markdown",
   "metadata": {},
   "source": [
    "Only a small portion of Shor's algorithm uses a quantum computer. We can try to do classically the task handled by the quantum computer. This is what the function \"classical_shor\" does."
   ]
  },
  {
   "cell_type": "code",
   "execution_count": null,
   "metadata": {},
   "outputs": [],
   "source": [
    "#Small semiprime\n",
    "classical_shor_small_semiprime = classical_shor(small_semiprime)\n",
    "print(classical_shor_small_semiprime)"
   ]
  },
  {
   "cell_type": "code",
   "execution_count": null,
   "metadata": {},
   "outputs": [],
   "source": [
    "#Big semiprime \n",
    "classical_shor_big_semiprime = classical_shor(big_semiprime)\n",
    "print(classical_shor_big_semiprime)"
   ]
  },
  {
   "cell_type": "markdown",
   "metadata": {},
   "source": [
    "## 3 - Shor's algorithm"
   ]
  },
  {
   "cell_type": "markdown",
   "metadata": {},
   "source": [
    "This is the real implementation for Shor's algorithm. We simplify the usage of the function \"shors_algorithm\" by using a hardcoded function for the order finding part. Still some parameters have to be explained.\n",
    "\n",
    "one_qubit : We can use a clever trick called the \"one qubit trick\" the lower the number of qubits used in the quantum circuit. This is enabled when one_qubit is set to True. Otherwise, it will execute the default circuit for Shor's algorithm where a certain number of qubits are used to store the order's value (like in a QPE).  \n",
    "\n",
    "t : If one_qubit is True, t is the number of measurements made in the one qubit trick to find the bits composing the order's value. Otherwise, t is the number of qubits used to store the order's value (like in a QPE). Either way, t is the accuracy (the number of bits) with which we measure the order.\n",
    "\n",
    "noise : We can add noise to the circuit to replicate the behaviour of a real quantum computer."
   ]
  },
  {
   "cell_type": "code",
   "execution_count": null,
   "metadata": {},
   "outputs": [],
   "source": [
    "#Small semiprime\n",
    "\n",
    "#Options\n",
    "t = 5\n",
    "one_qubit = False\n",
    "noise = False\n",
    "\n",
    "shor_small_semiprime = shors_algorithm(small_semiprime, t, order_finding_circuit_beauregard, hardcoded=True, one_qubit=one_qubit, noise=noise)\n",
    "\n",
    "print(shor_small_semiprime)"
   ]
  },
  {
   "cell_type": "code",
   "execution_count": null,
   "metadata": {},
   "outputs": [],
   "source": [
    "#Big semiprime\n",
    "\n",
    "#Options\n",
    "t = 5\n",
    "one_qubit = False\n",
    "noise = False\n",
    "\n",
    "shor_big_semiprime = shors_algorithm(big_semiprime, t, order_finding_circuit_beauregard, hardcoded=True, one_qubit=one_qubit, noise=noise)\n",
    "\n",
    "print(shor_big_semiprime)"
   ]
  },
  {
   "cell_type": "markdown",
   "metadata": {},
   "source": [
    "## 4 - How to cheat and pretend to factor big number with Shor's algorithm"
   ]
  },
  {
   "cell_type": "markdown",
   "metadata": {},
   "source": [
    "Depending on the value \"a\" (the basis) chosen in Shor's algorithm, the period varies. With a shorter period, we can compress the circuit we use for the order-finding algorithm in order to utilize a drastically lower number of qubits than what the theory on Shor's algorithm suggests. Therefore, if we choose a basis with a  small period (2 for example), we can factor very large numbers in a short amount of time without much ressources. In fact, we compress the circuit so much that there's no point at all in using a quantum computer (the quantum part in Shor's algorithm is useless). Such a basis can always be found if we know the factors beforehand. When factoring smaller numbers, we can brute force all possible basis to find one with the desired properties. \n",
    "\n",
    "This what we call \"compiled Shor's algorithm\". We show this technique for the big semiprime defined earlier."
   ]
  },
  {
   "cell_type": "code",
   "execution_count": null,
   "metadata": {},
   "outputs": [],
   "source": [
    "from shors_algorithm.methods.cheat_shor import pretend_to_factor\n",
    "\n",
    "pretend_big_semiprime = pretend_to_factor(p,q)\n",
    "\n",
    "print(pretend_big_semiprime)"
   ]
  }
 ],
 "metadata": {
  "kernelspec": {
   "display_name": "Python 3 (ipykernel)",
   "language": "python",
   "name": "python3"
  },
  "language_info": {
   "codemirror_mode": {
    "name": "ipython",
    "version": 3
   },
   "file_extension": ".py",
   "mimetype": "text/x-python",
   "name": "python",
   "nbconvert_exporter": "python",
   "pygments_lexer": "ipython3",
   "version": "3.12.1"
  }
 },
 "nbformat": 4,
 "nbformat_minor": 4
}
