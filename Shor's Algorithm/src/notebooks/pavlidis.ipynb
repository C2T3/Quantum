{
 "cells": [
  {
   "cell_type": "markdown",
   "metadata": {},
   "source": [
    "# Implementation of Pavlidis' paper"
   ]
  },
  {
   "cell_type": "markdown",
   "metadata": {},
   "source": [
    "### By Mathis Beaudoin (Summer 2024)"
   ]
  },
  {
   "cell_type": "code",
   "execution_count": null,
   "metadata": {},
   "outputs": [],
   "source": [
    "import sys\n",
    "import os\n",
    "sys.path.append(os.path.abspath(os.path.join(os.getcwd(), '..')))\n",
    "\n",
    "from qiskit import QuantumCircuit\n",
    "from qiskit.quantum_info import Statevector\n",
    "from shors_algorithm.methods.utils.QFT import build_QFT, build_QFT_dag\n",
    "from shors_algorithm.methods.pavlidis import q_accumulator, divider, modular_mult"
   ]
  },
  {
   "cell_type": "markdown",
   "metadata": {},
   "source": [
    "### Add a product to a quantum integer (accumulator)"
   ]
  },
  {
   "cell_type": "code",
   "execution_count": null,
   "metadata": {},
   "outputs": [],
   "source": [
    "c_integer = 2\n",
    "q_integer_1 = 2\n",
    "q_integer_2 = 1\n",
    "\n",
    "num_qubits = 3\n",
    "register_1 = [i for i in range(num_qubits)]\n",
    "register_2 = [i for i in range(num_qubits, 2*num_qubits)]\n",
    "\n",
    "qc_acc = QuantumCircuit(2*num_qubits)\n",
    "qc_acc.initialize(f'{q_integer_1:b}'.zfill(num_qubits), register_1)\n",
    "qc_acc.initialize(f'{q_integer_2:b}'.zfill(num_qubits), register_2)\n",
    "\n",
    "qc_acc.append(build_QFT(num_qubits), register_2)\n",
    "q_accumulator(qc_acc, c_integer, register_1, register_2)\n",
    "qc_acc.append(build_QFT_dag(num_qubits), register_2)\n",
    "print(\"Accumulator :\", Statevector(qc_acc).probabilities_dict(decimals=10))"
   ]
  },
  {
   "cell_type": "markdown",
   "metadata": {},
   "source": [
    "### Quantum divider"
   ]
  },
  {
   "cell_type": "code",
   "execution_count": null,
   "metadata": {},
   "outputs": [],
   "source": [
    "z = 10\n",
    "d = 4\n",
    "n = 3\n",
    "\n",
    "qc_div = divider(z,d,n)\n",
    "\n",
    "print(\"Diviser :\", Statevector(qc_div).probabilities_dict(decimals=10))\n",
    "\n",
    "#This may take some time, the number of qubits used can be large\n",
    "print(\"Number of qubits used : \", qc_div.num_qubits)"
   ]
  },
  {
   "cell_type": "markdown",
   "metadata": {},
   "source": [
    "### Quantum modular multiplier"
   ]
  },
  {
   "cell_type": "code",
   "execution_count": null,
   "metadata": {},
   "outputs": [],
   "source": [
    "qc_mult = modular_mult(2,2,3,2)\n",
    "\n",
    "print(\"Modular multiplier :\", Statevector(qc_mult).probabilities_dict(decimals=10))\n",
    "print(\"Number of qubits used : \", qc_mult.num_qubits)\n",
    "\n",
    "#This may take even more time than the divider"
   ]
  }
 ],
 "metadata": {
  "kernelspec": {
   "display_name": ".venv",
   "language": "python",
   "name": "python3"
  },
  "language_info": {
   "codemirror_mode": {
    "name": "ipython",
    "version": 3
   },
   "file_extension": ".py",
   "mimetype": "text/x-python",
   "name": "python",
   "nbconvert_exporter": "python",
   "pygments_lexer": "ipython3",
   "version": "3.12.1"
  }
 },
 "nbformat": 4,
 "nbformat_minor": 2
}
