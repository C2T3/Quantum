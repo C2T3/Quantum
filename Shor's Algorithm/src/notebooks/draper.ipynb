{
 "cells": [
  {
   "cell_type": "markdown",
   "metadata": {},
   "source": [
    "# Implementation of Draper's QFT adders"
   ]
  },
  {
   "cell_type": "markdown",
   "metadata": {},
   "source": [
    "### By Mathis Beaudoin (Summer 2024)"
   ]
  },
  {
   "cell_type": "code",
   "execution_count": null,
   "metadata": {},
   "outputs": [],
   "source": [
    "import sys\n",
    "import os\n",
    "sys.path.append(os.path.abspath(os.path.join(os.getcwd(), '..')))\n",
    "\n",
    "from shors_algorithm.methods.utils.draper import phi_add, c_phi_add, cc_phi_add, q_adder\n",
    "from shors_algorithm.methods.utils.QFT import build_QFT, build_QFT_dag\n",
    "from qiskit import QuantumCircuit\n",
    "from qiskit.quantum_info import Statevector"
   ]
  },
  {
   "cell_type": "markdown",
   "metadata": {},
   "source": [
    "### Add classical integer to quantum integer"
   ]
  },
  {
   "cell_type": "code",
   "execution_count": null,
   "metadata": {},
   "outputs": [],
   "source": [
    "c_integer = 2\n",
    "q_integer = 3\n",
    "\n",
    "num_qubits = 4\n",
    "register = [i for i in range(num_qubits)]\n",
    "\n",
    "basic_adder = QuantumCircuit(num_qubits)\n",
    "basic_adder.initialize(f'{q_integer:b}'.zfill(num_qubits), register)\n",
    "\n",
    "basic_adder.append(build_QFT(num_qubits), register)\n",
    "phi_add(basic_adder, c_integer, register)    #inverse = True to subtract\n",
    "basic_adder.append(build_QFT_dag(num_qubits), register)\n",
    "\n",
    "result = Statevector(basic_adder).probabilities_dict(decimals=10)\n",
    "bit_string = list(result.keys())\n",
    "\n",
    "print(\"Phi_add result :\", result)\n",
    "print(\"Integer result :\", int(bit_string[0],2))"
   ]
  },
  {
   "cell_type": "markdown",
   "metadata": {},
   "source": [
    "### Control-add classical integer to quantum integer"
   ]
  },
  {
   "cell_type": "code",
   "execution_count": null,
   "metadata": {},
   "outputs": [],
   "source": [
    "c_integer = 1\n",
    "q_integer = 2\n",
    "\n",
    "num_qubits = 5\n",
    "register = [i for i in range(1, num_qubits)]\n",
    "ctrl_qubit = 0 #We choose the ctrl qubit to be the first qubit in the circuit\n",
    "\n",
    "qc_c_adder = QuantumCircuit(num_qubits)\n",
    "qc_c_adder.x(ctrl_qubit)    #We activate the control qubit\n",
    "qc_c_adder.initialize(f'{q_integer:b}'.zfill(num_qubits - 1), register)\n",
    "\n",
    "qc_c_adder.append(build_QFT(num_qubits - 1), register)\n",
    "c_phi_add(qc_c_adder, c_integer, ctrl_qubit, register)\n",
    "qc_c_adder.append(build_QFT_dag(num_qubits - 1), register)\n",
    "\n",
    "result = Statevector(qc_c_adder).probabilities_dict(decimals=10)\n",
    "bit_string = list(result.keys())\n",
    "\n",
    "print(\"c_phi_add result :\", result)\n",
    "print(\"Integer result : \", int(bit_string[0][:-1],2))"
   ]
  },
  {
   "cell_type": "markdown",
   "metadata": {},
   "source": [
    "### Control-control-add classical integer to quantum integer"
   ]
  },
  {
   "cell_type": "code",
   "execution_count": null,
   "metadata": {},
   "outputs": [],
   "source": [
    "c_integer = 1\n",
    "q_integer = 2\n",
    "\n",
    "num_qubits = 5\n",
    "register = [i for i in range(2, num_qubits)]\n",
    "ctrl_qubit_1 = 0\n",
    "ctrl_qubit_2 = 1\n",
    "\n",
    "cc_add = QuantumCircuit(num_qubits)\n",
    "cc_add.x([ctrl_qubit_1, ctrl_qubit_2])\n",
    "cc_add.initialize(f'{q_integer:b}'.zfill(num_qubits - 2), register)\n",
    "\n",
    "cc_add.append(build_QFT(num_qubits - 2), register)\n",
    "cc_phi_add(cc_add, c_integer, ctrl_qubit_1, ctrl_qubit_2, register) #inverse = True to subtract\n",
    "cc_add.append(build_QFT_dag(num_qubits - 2), register)\n",
    "\n",
    "result = Statevector(cc_add).probabilities_dict(decimals=10)\n",
    "bit_string = list(result.keys())\n",
    "\n",
    "print(\"cc_phi_add result :\", result)\n",
    "print(\"Integer result : \", int(bit_string[0][:-2],2))"
   ]
  },
  {
   "cell_type": "markdown",
   "metadata": {},
   "source": [
    "### Add two quantum integers"
   ]
  },
  {
   "cell_type": "code",
   "execution_count": null,
   "metadata": {},
   "outputs": [],
   "source": [
    "q_integer_1 = 2 \n",
    "q_integer_2 = 2\n",
    "\n",
    "num_qubits = 3 #number of qubits for each quantum register\n",
    "register_1 = [i for i in range(num_qubits)] #A register for each quantum number\n",
    "register_2 = [i for i in range(num_qubits, 2*num_qubits)] #Result will be in this register\n",
    "\n",
    "qc_q_adder = QuantumCircuit(2*num_qubits)\n",
    "qc_q_adder.initialize(f'{q_integer_1:b}'.zfill(num_qubits), register_1)\n",
    "qc_q_adder.initialize(f'{q_integer_2:b}'.zfill(num_qubits), register_2)\n",
    "\n",
    "qc_q_adder.append(build_QFT(num_qubits), register_2)\n",
    "q_adder(qc_q_adder, register_1, register_2)\n",
    "qc_q_adder.append(build_QFT_dag(num_qubits), register_2)\n",
    "\n",
    "result = Statevector(qc_q_adder).probabilities_dict(decimals=10)\n",
    "bit_string = list(result.keys())\n",
    "\n",
    "print(\"Quantum adder result :\", result)\n",
    "print(\"Integer result : \", int(bit_string[0][0:num_qubits],2))"
   ]
  }
 ],
 "metadata": {
  "kernelspec": {
   "display_name": "Python 3 (ipykernel)",
   "language": "python",
   "name": "python3"
  },
  "language_info": {
   "codemirror_mode": {
    "name": "ipython",
    "version": 3
   },
   "file_extension": ".py",
   "mimetype": "text/x-python",
   "name": "python",
   "nbconvert_exporter": "python",
   "pygments_lexer": "ipython3",
   "version": "3.12.1"
  }
 },
 "nbformat": 4,
 "nbformat_minor": 4
}
