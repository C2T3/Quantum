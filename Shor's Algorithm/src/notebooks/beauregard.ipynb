{
 "cells": [
  {
   "cell_type": "markdown",
   "metadata": {},
   "source": [
    "# Implementation of Beauregard's paper"
   ]
  },
  {
   "cell_type": "markdown",
   "metadata": {},
   "source": [
    "### By Mathis Beaudoin (Summer 2024)"
   ]
  },
  {
   "cell_type": "code",
   "execution_count": null,
   "metadata": {},
   "outputs": [],
   "source": [
    "import sys\n",
    "import os\n",
    "sys.path.append(os.path.abspath(os.path.join(os.getcwd(), '..')))\n",
    "\n",
    "\n",
    "from shors_algorithm.methods.beauregard import cc_phi_add_mod, cc_phi_add_mod_dag, c_mult_mod, rev_mult_mod\n",
    "from shors_algorithm.methods.utils.QFT import build_QFT, build_QFT_dag\n",
    "from qiskit import QuantumCircuit\n",
    "from qiskit.quantum_info import Statevector"
   ]
  },
  {
   "cell_type": "markdown",
   "metadata": {},
   "source": [
    "## Control-control-add mod N"
   ]
  },
  {
   "cell_type": "code",
   "execution_count": null,
   "metadata": {},
   "outputs": [],
   "source": [
    "c_integer = 16\n",
    "q_integer = 4\n",
    "N = 5\n",
    "\n",
    "num_qubits = 8\n",
    "register = [i for i in range(2, num_qubits - 1)]\n",
    "ctrl_qubit_1 = 0\n",
    "ctrl_qubit_2 = 1\n",
    "ancillary = 7\n",
    "\n",
    "add_mod = QuantumCircuit(num_qubits)\n",
    "add_mod.x([ctrl_qubit_1, ctrl_qubit_2])\n",
    "add_mod.initialize(f'{q_integer:b}'.zfill(num_qubits - 3), register)\n",
    "\n",
    "add_mod.append(build_QFT(num_qubits - 3), register)\n",
    "# cc_phi_add_mod_dag(add_mod, c_integer, N, ctrl_qubit_1, ctrl_qubit_2, ancillary, register) # Uncomment this for the inverse\n",
    "cc_phi_add_mod(add_mod, c_integer, N, ctrl_qubit_1, ctrl_qubit_2, ancillary, register) # Comment this line for the inverse\n",
    "add_mod.append(build_QFT_dag(num_qubits - 3), register)\n",
    "\n",
    "result = Statevector(add_mod).probabilities_dict(decimals=10)\n",
    "bit_string = list(result.keys())\n",
    "\n",
    "print(\"cc_phi_add_mod N result :\", result)\n",
    "print(\"Integer result : \", int(bit_string[0][1:num_qubits-2],2))"
   ]
  },
  {
   "cell_type": "markdown",
   "metadata": {},
   "source": [
    "# Multiplication mod N"
   ]
  },
  {
   "cell_type": "code",
   "execution_count": null,
   "metadata": {},
   "outputs": [],
   "source": [
    "c_integer = 1\n",
    "q_integer_1 = 1\n",
    "q_integer_2 = 2\n",
    "N = 5\n",
    "\n",
    "num_qubits = 8\n",
    "ctrl_qubit = 0 \n",
    "register_1 = [i for i in range(1, num_qubits//2)] #result in this register\n",
    "register_2 = [i for i in range(num_qubits//2, num_qubits - 1)] \n",
    "ancillary = num_qubits - 1\n",
    "\n",
    "mult_mod = QuantumCircuit(num_qubits)\n",
    "mult_mod.x(ctrl_qubit)\n",
    "mult_mod.initialize(f'{q_integer_1:b}'.zfill(num_qubits//2 - 1), register_1)\n",
    "mult_mod.initialize(f'{q_integer_2:b}'.zfill(num_qubits//2 - 1), register_2)\n",
    "\n",
    "mult_mod.append(build_QFT(len(register_2)), register_2)\n",
    "c_mult_mod(mult_mod, c_integer, N, ctrl_qubit, register_1, ancillary, register_2)\n",
    "mult_mod.append(build_QFT_dag(len(register_2)), register_2)\n",
    "\n",
    "result = Statevector(mult_mod).probabilities_dict(decimals=10)\n",
    "bit_string = list(result.keys())\n",
    "\n",
    "print(\"Mult mod result :\", result)\n",
    "print(\"Integer result : \", int(bit_string[0][1:num_qubits//2],2))"
   ]
  },
  {
   "cell_type": "markdown",
   "metadata": {},
   "source": [
    "# Reversible multiplication mod N"
   ]
  },
  {
   "cell_type": "code",
   "execution_count": null,
   "metadata": {},
   "outputs": [],
   "source": [
    "c_integer = 3\n",
    "q_integer_1 = 3\n",
    "q_integer_2 = 0\n",
    "N = 7\n",
    "\n",
    "num_qubits = 11\n",
    "ctrl_qubit = 0\n",
    "register_1 = [i for i in range(1, num_qubits - 6)]\n",
    "register_2 = [i for i in range(num_qubits - 6, num_qubits - 1)]\n",
    "ancillary = 10\n",
    "\n",
    "s_u = QuantumCircuit(num_qubits)\n",
    "s_u.x(0)\n",
    "s_u.initialize(f'{q_integer_1:b}'.zfill(num_qubits - 7), register_1)\n",
    "s_u.initialize(f'{q_integer_2:b}'.zfill(num_qubits - 6), register_2)\n",
    "\n",
    "s_u.append(build_QFT(len(register_2)), register_2)\n",
    "rev_mult_mod(s_u, c_integer, N, ctrl_qubit, register_1, ancillary, register_2)\n",
    "s_u.append(build_QFT_dag(len(register_2)), register_2)\n",
    "\n",
    "result = Statevector(s_u).probabilities_dict(decimals=10)\n",
    "bit_string = list(result.keys())\n",
    "\n",
    "print(\"rev_mult_mod result :\", result)\n",
    "print(\"Integer result : \", int(bit_string[0][num_qubits-6:num_qubits-1],2))"
   ]
  }
 ],
 "metadata": {
  "kernelspec": {
   "display_name": "Python 3 (ipykernel)",
   "language": "python",
   "name": "python3"
  },
  "language_info": {
   "codemirror_mode": {
    "name": "ipython",
    "version": 3
   },
   "file_extension": ".py",
   "mimetype": "text/x-python",
   "name": "python",
   "nbconvert_exporter": "python",
   "pygments_lexer": "ipython3",
   "version": "3.12.1"
  }
 },
 "nbformat": 4,
 "nbformat_minor": 4
}
